{
 "cells": [
  {
   "cell_type": "markdown",
   "id": "46b19e70-57c8-4a9d-8cfa-69193cf99c85",
   "metadata": {},
   "source": [
    "# PySpark Data Camp\n",
    "\n",
    "## **Creating a SparkSession**\n",
    "\n",
    "We've already created a SparkSession for you called spark, but what if you're not sure there already is one? Creating multiple SparkSessions and SparkContexts can cause issues, so it's best practice to use the SparkSession.builder.getOrCreate() method. This returns an existing SparkSession if there's already one in the environment, or creates a new one if necessary!\n"
   ]
  },
  {
   "cell_type": "code",
   "execution_count": 8,
   "id": "314b64e3-d184-46e9-9a16-2d955d2c22f1",
   "metadata": {},
   "outputs": [
    {
     "name": "stdout",
     "output_type": "stream",
     "text": [
      "<pyspark.sql.session.SparkSession object at 0x000002A189A294C0>\n"
     ]
    }
   ],
   "source": [
    "# Import SparkSession from pyspark.sql\n",
    "import pandas as pd\n",
    "import numpy as np\n",
    "import findspark\n",
    "import pyspark\n",
    "from pyspark.sql import SparkSession\n",
    "\n",
    "findspark.init()\n",
    "\n",
    "# Create my_spark\n",
    "spark = SparkSession.builder.getOrCreate()\n",
    "\n",
    "# Print my_spark\n",
    "print(spark)"
   ]
  },
  {
   "cell_type": "markdown",
   "id": "bd912f2c-410a-42c8-bb5f-9862c1ea3c72",
   "metadata": {},
   "source": [
    "## **Viewing tables**\n",
    "\n",
    "Once you've created a SparkSession, you can start poking around to see what data is in your cluster!\n",
    "\n",
    "Your SparkSession has an attribute called catalog which lists all the data inside the cluster. This attribute has a few methods for extracting different pieces of information.\n",
    "\n",
    "One of the most useful is the .listTables() method, which returns the names of all the tables in your cluster as a list."
   ]
  },
  {
   "cell_type": "code",
   "execution_count": 3,
   "id": "6bdc28c0-b716-476e-8691-118d93d2c5e3",
   "metadata": {},
   "outputs": [
    {
     "name": "stdout",
     "output_type": "stream",
     "text": [
      "[]\n"
     ]
    }
   ],
   "source": [
    "# Print the tables in the catalog\n",
    "print(spark.catalog.listTables())"
   ]
  },
  {
   "cell_type": "markdown",
   "id": "cf57f212-c55b-47e5-bd82-e40c5d172995",
   "metadata": {},
   "source": [
    "## **Are you query-ious?**\n",
    "\n",
    "One of the advantages of the DataFrame interface is that you can run SQL queries on the tables in your Spark cluster. If you don't have any experience with SQL, don't worry, we'll provide you with queries! (To learn more SQL, start with our Introduction to SQL course.)\n",
    "\n",
    "As you saw in the last exercise, one of the tables in your cluster is the flights table. This table contains a row for every flight that left Portland International Airport (PDX) or Seattle-Tacoma International Airport (SEA) in 2014 and 2015.\n",
    "\n",
    "Running a query on this table is as easy as using the .sql() method on your SparkSession. This method takes a string containing the query and returns a DataFrame with the results!\n",
    "\n",
    "If you look closely, you'll notice that the table flights is only mentioned in the query, not as an argument to any of the methods. This is because there isn't a local object in your environment that holds that data, so it wouldn't make sense to pass the table as an argument.\n",
    "\n",
    "Remember, we've already created a SparkSession called spark in your workspace. (It's no longer called my_spark because we created it for you!)"
   ]
  },
  {
   "cell_type": "code",
   "execution_count": null,
   "id": "437cf7e4-e591-46c5-9f7d-a4e3f9283cbd",
   "metadata": {},
   "outputs": [],
   "source": [
    "# Don't change this query\n",
    "query = \"FROM flights SELECT * LIMIT 10\"\n",
    "\n",
    "# Get the first 10 rows of flights\n",
    "flights10 = spark.sql(query)\n",
    "\n",
    "# Show the results\n",
    "flights10.show()"
   ]
  },
  {
   "cell_type": "markdown",
   "id": "f39bd7b7-4aee-4570-9864-5594535df3d8",
   "metadata": {},
   "source": [
    "## **Pandafy a Spark DataFrame**\n",
    "\n",
    "Suppose you've run a query on your huge dataset and aggregated it down to something a little more manageable.\n",
    "\n",
    "Sometimes it makes sense to then take that table and work with it locally using a tool like pandas. Spark DataFrames make that easy with the .toPandas() method. Calling this method on a Spark DataFrame returns the corresponding pandas DataFrame. It's as simple as that!\n",
    "\n",
    "This time the query counts the number of flights to each airport from SEA and PDX.\n",
    "\n",
    "Remember, there's already a SparkSession called spark in your workspace!"
   ]
  },
  {
   "cell_type": "code",
   "execution_count": null,
   "id": "8e46204c-1b51-4600-a8ad-c3f0743697b2",
   "metadata": {},
   "outputs": [],
   "source": [
    "# Don't change this query\n",
    "query = \"SELECT origin, dest, COUNT(*) as N FROM flights GROUP BY origin, dest\"\n",
    "\n",
    "# Run the query\n",
    "flight_counts = spark.sql(query)\n",
    "\n",
    "# Convert the results to a pandas DataFrame\n",
    "pd_counts = flight_counts.toPandas()\n",
    "\n",
    "# Print the head of pd_counts\n",
    "print(pd_counts.head())"
   ]
  },
  {
   "cell_type": "markdown",
   "id": "553ef01d-b62e-41aa-8f33-9c6aa0052fd5",
   "metadata": {},
   "source": [
    "## **Put some Spark in your data**\n",
    "\n",
    "In the last exercise, you saw how to move data from Spark to pandas. However, maybe you want to go the other direction, and put a pandas DataFrame into a Spark cluster! The SparkSession class has a method for this as well.\n",
    "\n",
    "The .createDataFrame() method takes a pandas DataFrame and returns a Spark DataFrame.\n",
    "\n",
    "The output of this method is stored locally, not in the SparkSession catalog. This means that you can use all the Spark DataFrame methods on it, but you can't access the data in other contexts.\n",
    "\n",
    "For example, a SQL query (using the .sql() method) that references your DataFrame will throw an error. To access the data in this way, you have to save it as a temporary table.\n",
    "\n",
    "You can do this using the .createTempView() Spark DataFrame method, which takes as its only argument the name of the temporary table you'd like to register. This method registers the DataFrame as a table in the catalog, but as this table is temporary, it can only be accessed from the specific SparkSession used to create the Spark DataFrame.\n",
    "\n",
    "There is also the method .createOrReplaceTempView(). This safely creates a new temporary table if nothing was there before, or updates an existing table if one was already defined. You'll use this method to avoid running into problems with duplicate tables.\n",
    "\n",
    "Check out the diagram to see all the different ways your Spark data structures interact with each other."
   ]
  },
  {
   "cell_type": "markdown",
   "id": "f8b0424d-164d-4c61-8774-df6f9867e1ad",
   "metadata": {},
   "source": [
    "![](https://assets.datacamp.com/production/course_4452/datasets/spark_figure.png)\n",
    "\n",
    "There's already a SparkSession called spark in your workspace, numpy has been imported as np, and pandas as pd.\n"
   ]
  },
  {
   "cell_type": "code",
   "execution_count": 9,
   "id": "68448478-9753-4c1c-8e35-766a9f4adf54",
   "metadata": {},
   "outputs": [
    {
     "name": "stdout",
     "output_type": "stream",
     "text": [
      "[]\n",
      "[Table(name='temp', database=None, description=None, tableType='TEMPORARY', isTemporary=True)]\n"
     ]
    }
   ],
   "source": [
    "# Create pd_temp\n",
    "pd_temp = pd.DataFrame(np.random.random(10))\n",
    "\n",
    "# Create spark_temp from pd_temp\n",
    "spark_temp = spark.createDataFrame(pd_temp)\n",
    "\n",
    "# Examine the tables in the catalog\n",
    "print(spark.catalog.listTables())\n",
    "\n",
    "# Add spark_temp to the catalog\n",
    "spark_temp.createOrReplaceTempView(\"temp\")\n",
    "\n",
    "# Examine the tables in the catalog again\n",
    "print(spark.catalog.listTables())"
   ]
  },
  {
   "cell_type": "markdown",
   "id": "a93abfdd-10e2-45b3-b7cc-00e651807b23",
   "metadata": {},
   "source": [
    "## **Dropping the middle man**\n",
    "\n",
    "Now you know how to put data into Spark via pandas, but you're probably wondering why deal with pandas at all? Wouldn't it be easier to just read a text file straight into Spark? Of course it would!\n",
    "\n",
    "Luckily, your SparkSession has a .read attribute which has several methods for reading different data sources into Spark DataFrames. Using these you can create a DataFrame from a .csv file just like with regular pandas DataFrames!\n",
    "\n",
    "The variable file_path is a string with the path to the file airports.csv. This file contains information about different airports all over the world.\n",
    "\n",
    "A SparkSession named spark is available in your workspace."
   ]
  },
  {
   "cell_type": "code",
   "execution_count": 11,
   "id": "bc440e46-dc0a-4ab6-af4d-7d8729622250",
   "metadata": {},
   "outputs": [
    {
     "name": "stdout",
     "output_type": "stream",
     "text": [
      "+---+--------------------+------------------+-------------------+----+---+---+-------------------+\n",
      "|faa|                name|               lat|                lon| alt| tz|dst|              tzone|\n",
      "+---+--------------------+------------------+-------------------+----+---+---+-------------------+\n",
      "|04G|   Lansdowne Airport|        41.1304722|        -80.6195833|1044| -5|  A|   America/New_York|\n",
      "|06A|Moton Field Munic...|        32.4605722|        -85.6800278| 264| -6|  A|    America/Chicago|\n",
      "|06C| Schaumburg Regional|        41.9893408|        -88.1012428| 801| -6|  A|    America/Chicago|\n",
      "|06N|     Randall Airport|         41.431912|        -74.3915611| 523| -5|  A|   America/New_York|\n",
      "|09J|Jekyll Island Air...|        31.0744722|        -81.4277778|  11| -5|  A|   America/New_York|\n",
      "|0A9|Elizabethton Muni...|        36.3712222|        -82.1734167|1593| -5|  A|   America/New_York|\n",
      "|0G6|Williams County A...|        41.4673056|        -84.5067778| 730| -5|  A|   America/New_York|\n",
      "|0G7|Finger Lakes Regi...|        42.8835647|        -76.7812318| 492| -5|  A|   America/New_York|\n",
      "|0P2|Shoestring Aviati...|        39.7948244|        -76.6471914|1000| -5|  U|   America/New_York|\n",
      "|0S9|Jefferson County ...|48.053808600000004|       -122.8106436| 108| -8|  A|America/Los_Angeles|\n",
      "|0W3|Harford County Ai...|        39.5668378|        -76.2024028| 409| -5|  A|   America/New_York|\n",
      "|10C|  Galt Field Airport|        42.4028889|        -88.3751111| 875| -6|  U|    America/Chicago|\n",
      "|17G|Port Bucyrus-Craw...|        40.7815556|        -82.9748056|1003| -5|  A|   America/New_York|\n",
      "|19A|Jackson County Ai...|        34.1758638|        -83.5615972| 951| -5|  U|   America/New_York|\n",
      "|1A3|Martin Campbell F...|        35.0158056|        -84.3468333|1789| -5|  A|   America/New_York|\n",
      "|1B9| Mansfield Municipal|        42.0001331|        -71.1967714| 122| -5|  A|   America/New_York|\n",
      "|1C9|Frazier Lake Airpark|54.013333333333335|-124.76833333333333| 152| -8|  A|  America/Vancouver|\n",
      "|1CS|Clow Internationa...|        41.6959744|        -88.1292306| 670| -6|  U|    America/Chicago|\n",
      "|1G3|  Kent State Airport|        41.1513889|        -81.4151111|1134| -5|  A|   America/New_York|\n",
      "|1G4|Grand Canyon West...|         35.899904|        -113.815674|4813| -7|  A|    America/Phoenix|\n",
      "+---+--------------------+------------------+-------------------+----+---+---+-------------------+\n",
      "only showing top 20 rows\n",
      "\n"
     ]
    }
   ],
   "source": [
    "# Don't change this file path\n",
    "file_path = r'C:\\Users\\steff\\PySpark\\airports.csv'\n",
    "\n",
    "# Read in the airports data\n",
    "airports = spark.read.csv(file_path, header=True)\n",
    "\n",
    "# Show the data\n",
    "airports.show()"
   ]
  }
 ],
 "metadata": {
  "kernelspec": {
   "display_name": "Python 3 (ipykernel)",
   "language": "python",
   "name": "python3"
  },
  "language_info": {
   "codemirror_mode": {
    "name": "ipython",
    "version": 3
   },
   "file_extension": ".py",
   "mimetype": "text/x-python",
   "name": "python",
   "nbconvert_exporter": "python",
   "pygments_lexer": "ipython3",
   "version": "3.9.16"
  }
 },
 "nbformat": 4,
 "nbformat_minor": 5
}
