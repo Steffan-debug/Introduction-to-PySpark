{
 "cells": [
  {
   "cell_type": "markdown",
   "id": "e1a2161d-6f10-4a60-905c-48e81f1903b3",
   "metadata": {},
   "source": [
    "# What is logistic regression?\n",
    "The model you'll be fitting in this chapter is called a logistic regression. This model is very similar to a linear regression, but instead of predicting a numeric variable, it predicts the probability (between 0 and 1) of an event.\n",
    "\n",
    "To use this as a classification algorithm, all you have to do is assign a cutoff point to these probabilities. If the predicted probability is above the cutoff point, you classify that observation as a 'yes' (in this case, the flight being late), if it's below, you classify it as a 'no'!\n",
    "\n",
    "You'll tune this model by testing different values for several hyperparameters. A hyperparameter is just a value in the model that's not estimated from the data, but rather is supplied by the user to maximize performance. For this course it's not necessary to understand the mathematics behind all of these values - what's important is that you'll try out a few different choices and pick the best one.\n",
    "\n",
    "Why do you supply hyperparameters?\n",
    "- They improve model performance."
   ]
  },
  {
   "cell_type": "markdown",
   "id": "d95cdbdd-ff2a-4684-863d-3f13c398e8f7",
   "metadata": {},
   "source": [
    "## Create the modeler\n",
    "The Estimator you'll be using is a LogisticRegression from the pyspark.ml.classification submodule.\n",
    "\n",
    "- Import the LogisticRegression class from pyspark.ml.classification.\n",
    "- Create a LogisticRegression called lr by calling LogisticRegression() with no arguments."
   ]
  },
  {
   "cell_type": "code",
   "execution_count": null,
   "id": "e7b074f8-5dc2-4c96-b8df-c1011e876683",
   "metadata": {},
   "outputs": [],
   "source": [
    "# Import LogisticRegression\n",
    "from pyspark.ml.classification import LogisticRegression\n",
    "\n",
    "# Create a LogisticRegression Estimator\n",
    "lr = LogisticRegression()"
   ]
  },
  {
   "cell_type": "markdown",
   "id": "f92d2e6e-6e1a-4491-a13a-470aaec23a43",
   "metadata": {},
   "source": [
    "## Cross validation\n",
    "In the next few exercises you'll be tuning your logistic regression model using a procedure called k-fold cross validation. This is a method of estimating the model's performance on unseen data (like your test DataFrame).\n",
    "\n",
    "It works by splitting the training data into a few different partitions. The exact number is up to you, but in this course you'll be using PySpark's default value of three. Once the data is split up, one of the partitions is set aside, and the model is fit to the others. Then the error is measured against the held out partition. This is repeated for each of the partitions, so that every block of data is held out and used as a test set exactly once. Then the error on each of the partitions is averaged. This is called the cross validation error of the model, and is a good estimate of the actual error on the held out data.\n",
    "\n",
    "You'll be using cross validation to choose the hyperparameters by creating a grid of the possible pairs of values for the two hyperparameters, elasticNetParam and regParam, and using the cross validation error to compare all the different models so you can choose the best one!\n",
    "\n",
    "What does cross validation allow you to estimate?\n",
    "\n",
    "- The model's error on held out data."
   ]
  },
  {
   "cell_type": "markdown",
   "id": "e4339401-8e6c-4128-900d-625eea89741c",
   "metadata": {},
   "source": [
    "## Create the evaluator\n",
    "The first thing you need when doing cross validation for model selection is a way to compare different models. Luckily, the pyspark.ml.evaluation submodule has classes for evaluating different kinds of models. Your model is a binary classification model, so you'll be using the BinaryClassificationEvaluator from the pyspark.ml.evaluation module.\n",
    "\n",
    "This evaluator calculates the area under the ROC. This is a metric that combines the two kinds of errors a binary classifier can make (false positives and false negatives) into a simple number. You'll learn more about this towards the end of the chapter!\n",
    "\n",
    "\n",
    "- Import the submodule pyspark.ml.evaluation as evals.\n",
    "- Create evaluator by calling evals.BinaryClassificationEvaluator() with the argument metricName=\"areaUnderROC\"."
   ]
  },
  {
   "cell_type": "code",
   "execution_count": null,
   "id": "584b4215-f9e7-4fcf-b1f0-1fe47927fffb",
   "metadata": {},
   "outputs": [],
   "source": [
    "# Import LogisticRegression\n",
    "from pyspark.ml.classification import LogisticRegression\n",
    "\n",
    "# Create a LogisticRegression Estimator\n",
    "lr = LogisticRegression()"
   ]
  },
  {
   "cell_type": "markdown",
   "id": "d8e8d975-9060-4d27-9002-b6f6fcc33630",
   "metadata": {},
   "source": [
    "## Make a grid\n",
    "Next, you need to create a grid of values to search over when looking for the optimal hyperparameters. The submodule pyspark.ml.tuning includes a class called ParamGridBuilder that does just that (maybe you're starting to notice a pattern here; PySpark has a submodule for just about everything!).\n",
    "\n",
    "You'll need to use the .addGrid() and .build() methods to create a grid that you can use for cross validation. The .addGrid() method takes a model parameter (an attribute of the model Estimator, lr, that you created a few exercises ago) and a list of values that you want to try. The .build() method takes no arguments, it just returns the grid that you'll use later.\n",
    "\n",
    "\n",
    "- Import the submodule pyspark.ml.tuning under the alias tune.\n",
    "- Call the class constructor ParamGridBuilder() with no arguments. Save this as grid.\n",
    " -Call the .addGrid() method on grid with lr.regParam as the first argument and np.arange(0, .1, .01) as the second argument. This second call is a function from the numpy module (imported as np) that creates a list of numbers from 0 to .1, incrementing by .01. Overwrite grid with the result.\n",
    "- Update grid again by calling the .addGrid() method a second time create a grid for lr.elasticNetParam that includes only the values [0, 1].\n",
    "- Call the .build() method on grid and overwrite it with the output."
   ]
  },
  {
   "cell_type": "code",
   "execution_count": null,
   "id": "5a88af07-d71a-4c69-8e8c-84f2ef4d99aa",
   "metadata": {},
   "outputs": [],
   "source": [
    "# Import the tuning submodule\n",
    "import pyspark.ml.tuning as tune\n",
    "\n",
    "# Create the parameter grid\n",
    "grid = tune.ParamGridBuilder()\n",
    "\n",
    "# Add the hyperparameter\n",
    "grid = grid.addGrid(lr.regParam, np.arange(0, .1, .01))\n",
    "grid = grid.addGrid(lr.elasticNetParam, [0,1])\n",
    "\n",
    "# Build the grid\n",
    "grid = grid.build()"
   ]
  },
  {
   "cell_type": "markdown",
   "id": "4bef62d6-0ea7-4f2d-b581-6069cb9708fb",
   "metadata": {},
   "source": [
    "## Make the validator\n",
    "The submodule pyspark.ml.tuning also has a class called CrossValidator for performing cross validation. This Estimator takes the modeler you want to fit, the grid of hyperparameters you created, and the evaluator you want to use to compare your models.\n",
    "\n",
    "The submodule pyspark.ml.tune has already been imported as tune. You'll create the CrossValidator by passing it the logistic regression Estimator lr, the parameter grid, and the evaluator you created in the previous exercises.\n",
    "\n",
    "\n",
    "- Create a CrossValidator by calling tune.CrossValidator() with the arguments:\n",
    "    - estimator=lr\n",
    "    - estimatorParamMaps=grid\n",
    "    - evaluator=evaluator\n",
    "    \n",
    "Name this object cv."
   ]
  },
  {
   "cell_type": "code",
   "execution_count": null,
   "id": "c37f4e85-9d65-4ad2-8e35-74d3f7997ccd",
   "metadata": {},
   "outputs": [],
   "source": [
    "# Create the CrossValidator\n",
    "cv = tune.CrossValidator(estimator=lr,\n",
    "               estimatorParamMaps=grid,\n",
    "               evaluator=evaluator\n",
    "               )"
   ]
  },
  {
   "cell_type": "markdown",
   "id": "250f5f64-510d-431e-b74c-1c707313e60e",
   "metadata": {},
   "source": [
    "## Fit the model(s)\n",
    "You're finally ready to fit the models and select the best one!\n",
    "\n",
    "Unfortunately, cross validation is a very computationally intensive procedure. Fitting all the models would take too long on DataCamp.\n",
    "\n",
    "To do this locally you would use the code:\n",
    "\n",
    "- Fit cross validation models\n",
    "models = cv.fit(training)\n",
    "\n",
    "- Extract the best model\n",
    "best_lr = models.bestModel\n",
    "\n",
    "Remember, the training data is called training and you're using lr to fit a logistic regression model. Cross validation selected the parameter values regParam=0 and elasticNetParam=0 as being the best. These are the default values, so you don't need to do anything else with lr before fitting the model.\n",
    "\n",
    "Instructions\n",
    "100 XP\n",
    "Create best_lr by calling lr.fit() on the training data.\n",
    "Print best_lr to verify that it's an object of the LogisticRegressionModel class."
   ]
  },
  {
   "cell_type": "code",
   "execution_count": null,
   "id": "c278ee8e-9585-4057-9fe0-0e22788ac1e6",
   "metadata": {},
   "outputs": [],
   "source": [
    "# Call lr.fit()\n",
    "best_lr = lr.fit(training)\n",
    "\n",
    "# Print best_lr\n",
    "print(best_lr)"
   ]
  },
  {
   "cell_type": "markdown",
   "id": "6d58e5cf-df32-47fc-88e7-64c0e1b6fa5a",
   "metadata": {},
   "source": [
    "## Evaluating binary classifiers\n",
    "For this course we'll be using a common metric for binary classification algorithms call the AUC, or area under the curve. In this case, the curve is the ROC, or receiver operating curve. The details of what these things actually measure isn't important for this course. All you need to know is that for our purposes, the closer the AUC is to one (1), the better the model is!\n",
    "\n",
    "If you've created a perfect binary classification model, what would the AUC be?\n",
    "- 1"
   ]
  },
  {
   "cell_type": "markdown",
   "id": "ffbb5b8f-0f83-48a0-9723-1a353b00c8d3",
   "metadata": {},
   "source": [
    "## Evaluate the model\n",
    "Remember the test data that you set aside waaaaaay back in chapter 3? It's finally time to test your model on it! You can use the same evaluator you made to fit the model.\n",
    "- Use your model to generate predictions by applying best_lr.transform() to the test data. Save this as test_results.\n",
    "- Call evaluator.evaluate() on test_results to compute the AUC. Print the output.\n",
    "\n"
   ]
  },
  {
   "cell_type": "code",
   "execution_count": null,
   "id": "df8e34f5-c49c-4f49-9b8a-f8c6c6676a58",
   "metadata": {},
   "outputs": [],
   "source": [
    "# Use the model to predict the test set\n",
    "test_results = best_lr.transform(test)\n",
    "\n",
    "# Evaluate the predictions\n",
    "print(evaluator.evaluate(test_results))"
   ]
  },
  {
   "cell_type": "code",
   "execution_count": null,
   "id": "ed59e4cb-5a33-4133-901c-63bbaf6253d0",
   "metadata": {},
   "outputs": [],
   "source": []
  }
 ],
 "metadata": {
  "kernelspec": {
   "display_name": "Python 3 (ipykernel)",
   "language": "python",
   "name": "python3"
  },
  "language_info": {
   "codemirror_mode": {
    "name": "ipython",
    "version": 3
   },
   "file_extension": ".py",
   "mimetype": "text/x-python",
   "name": "python",
   "nbconvert_exporter": "python",
   "pygments_lexer": "ipython3",
   "version": "3.9.16"
  }
 },
 "nbformat": 4,
 "nbformat_minor": 5
}
